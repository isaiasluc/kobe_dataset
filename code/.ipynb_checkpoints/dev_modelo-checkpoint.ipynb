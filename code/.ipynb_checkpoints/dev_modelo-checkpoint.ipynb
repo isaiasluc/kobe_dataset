{
 "cells": [
  {
   "cell_type": "code",
   "execution_count": 2,
   "metadata": {},
   "outputs": [],
   "source": [
    "import pandas as pd\n",
    "import numpy as np\n",
    "import pycaret.classification as pc\n",
    "\n",
    "import matplotlib.pyplot as plt\n",
    "\n",
    "import mlflow\n"
   ]
  },
  {
   "cell_type": "markdown",
   "metadata": {},
   "source": [
    "# Configurar MLFlow"
   ]
  },
  {
   "cell_type": "code",
   "execution_count": 3,
   "metadata": {},
   "outputs": [],
   "source": [
    "# Para usar o sqlite como repositorio\n",
    "mlflow.set_tracking_uri(\"sqlite:///mlruns.db\")\n",
    "\n",
    "experiment_name = 'Projeto Kobe'\n",
    "experiment = mlflow.get_experiment_by_name(experiment_name)\n",
    "if experiment is None:\n",
    "    experiment_id = mlflow.create_experiment(experiment_name)\n",
    "    experiment = mlflow.get_experiment(experiment_id)\n",
    "experiment_id = experiment.experiment_id"
   ]
  },
  {
   "cell_type": "code",
   "execution_count": 4,
   "metadata": {},
   "outputs": [],
   "source": [
    "from sklearn.model_selection import train_test_split\n",
    "\n",
    "data_cols = ['lat','lon','minutes_remaining','period','playoffs','shot_distance','shot_made_flag']\n",
    "train_perc = 0.8\n",
    "\n",
    "with mlflow.start_run(experiment_id=experiment_id, run_name = 'PreparacaoDados'):\n",
    "\n",
    "  #df_dev = pd.read_parquet('./drive/MyDrive/Colab Notebooks/kobe_dataset/data/raw/dataset_kobe_dev.parquet')\n",
    "  df_dev = pd.read_parquet('../data/raw/dataset_kobe_dev.parquet')\n",
    "  df_dev = df_dev[data_cols].copy()\n",
    "\n",
    "  #df_dev.to_parquet(\"./drive/MyDrive/Colab Notebooks/kobe_dataset/data/processed/data_filtered.parquet\")\n",
    "  df_dev.to_parquet(\"../data/processed/data_filtered.parquet\")\n",
    "  df_dev = df_dev.dropna(subset=['shot_made_flag'])\n",
    "  xtrain, xtest, ytrain, ytest = train_test_split(df_dev[['lat','lon','minutes_remaining','period','playoffs','shot_distance']],\n",
    "                                                  df_dev['shot_made_flag'],\n",
    "                                                  train_size=train_perc,\n",
    "                                                  stratify=df_dev['shot_made_flag'])\n",
    "\n",
    "  xtrain['shot_made_flag'] = ytrain\n",
    "  xtest['shot_made_flag'] = ytest\n",
    "  #xtrain.to_parquet('./drive/MyDrive/Colab Notebooks/kobe_dataset/data/processed/base_train.parquet')\n",
    "  xtrain.to_parquet('../data/processed/base_train.parquet')\n",
    "  xtest.to_parquet('../data/processed/base_test.parquet')\n",
    "\n",
    "  mlflow.log_params({\n",
    "      'perc_test': 1-train_perc,\n",
    "      'colunas-selecionadas': data_cols\n",
    "      })\n",
    "  mlflow.log_metrics({\n",
    "      'qtd_linhas_treino': xtrain.shape[0],\n",
    "      'qtd_linhas_teste': xtest.shape[0],\n",
    "  })"
   ]
  },
  {
   "cell_type": "markdown",
   "metadata": {},
   "source": [
    "# Treinamento do Modelo"
   ]
  },
  {
   "cell_type": "code",
   "execution_count": 5,
   "metadata": {},
   "outputs": [
    {
     "data": {
      "text/html": [
       "<style type=\"text/css\">\n",
       "#T_53367_row8_col1, #T_53367_row12_col1 {\n",
       "  background-color: lightgreen;\n",
       "}\n",
       "</style>\n",
       "<table id=\"T_53367\">\n",
       "  <thead>\n",
       "    <tr>\n",
       "      <th class=\"blank level0\" >&nbsp;</th>\n",
       "      <th id=\"T_53367_level0_col0\" class=\"col_heading level0 col0\" >Description</th>\n",
       "      <th id=\"T_53367_level0_col1\" class=\"col_heading level0 col1\" >Value</th>\n",
       "    </tr>\n",
       "  </thead>\n",
       "  <tbody>\n",
       "    <tr>\n",
       "      <th id=\"T_53367_level0_row0\" class=\"row_heading level0 row0\" >0</th>\n",
       "      <td id=\"T_53367_row0_col0\" class=\"data row0 col0\" >Session id</td>\n",
       "      <td id=\"T_53367_row0_col1\" class=\"data row0 col1\" >8449</td>\n",
       "    </tr>\n",
       "    <tr>\n",
       "      <th id=\"T_53367_level0_row1\" class=\"row_heading level0 row1\" >1</th>\n",
       "      <td id=\"T_53367_row1_col0\" class=\"data row1 col0\" >Target</td>\n",
       "      <td id=\"T_53367_row1_col1\" class=\"data row1 col1\" >shot_made_flag</td>\n",
       "    </tr>\n",
       "    <tr>\n",
       "      <th id=\"T_53367_level0_row2\" class=\"row_heading level0 row2\" >2</th>\n",
       "      <td id=\"T_53367_row2_col0\" class=\"data row2 col0\" >Target type</td>\n",
       "      <td id=\"T_53367_row2_col1\" class=\"data row2 col1\" >Binary</td>\n",
       "    </tr>\n",
       "    <tr>\n",
       "      <th id=\"T_53367_level0_row3\" class=\"row_heading level0 row3\" >3</th>\n",
       "      <td id=\"T_53367_row3_col0\" class=\"data row3 col0\" >Original data shape</td>\n",
       "      <td id=\"T_53367_row3_col1\" class=\"data row3 col1\" >(20285, 7)</td>\n",
       "    </tr>\n",
       "    <tr>\n",
       "      <th id=\"T_53367_level0_row4\" class=\"row_heading level0 row4\" >4</th>\n",
       "      <td id=\"T_53367_row4_col0\" class=\"data row4 col0\" >Transformed data shape</td>\n",
       "      <td id=\"T_53367_row4_col1\" class=\"data row4 col1\" >(20285, 7)</td>\n",
       "    </tr>\n",
       "    <tr>\n",
       "      <th id=\"T_53367_level0_row5\" class=\"row_heading level0 row5\" >5</th>\n",
       "      <td id=\"T_53367_row5_col0\" class=\"data row5 col0\" >Transformed train set shape</td>\n",
       "      <td id=\"T_53367_row5_col1\" class=\"data row5 col1\" >(16228, 7)</td>\n",
       "    </tr>\n",
       "    <tr>\n",
       "      <th id=\"T_53367_level0_row6\" class=\"row_heading level0 row6\" >6</th>\n",
       "      <td id=\"T_53367_row6_col0\" class=\"data row6 col0\" >Transformed test set shape</td>\n",
       "      <td id=\"T_53367_row6_col1\" class=\"data row6 col1\" >(4057, 7)</td>\n",
       "    </tr>\n",
       "    <tr>\n",
       "      <th id=\"T_53367_level0_row7\" class=\"row_heading level0 row7\" >7</th>\n",
       "      <td id=\"T_53367_row7_col0\" class=\"data row7 col0\" >Numeric features</td>\n",
       "      <td id=\"T_53367_row7_col1\" class=\"data row7 col1\" >6</td>\n",
       "    </tr>\n",
       "    <tr>\n",
       "      <th id=\"T_53367_level0_row8\" class=\"row_heading level0 row8\" >8</th>\n",
       "      <td id=\"T_53367_row8_col0\" class=\"data row8 col0\" >Preprocess</td>\n",
       "      <td id=\"T_53367_row8_col1\" class=\"data row8 col1\" >True</td>\n",
       "    </tr>\n",
       "    <tr>\n",
       "      <th id=\"T_53367_level0_row9\" class=\"row_heading level0 row9\" >9</th>\n",
       "      <td id=\"T_53367_row9_col0\" class=\"data row9 col0\" >Imputation type</td>\n",
       "      <td id=\"T_53367_row9_col1\" class=\"data row9 col1\" >simple</td>\n",
       "    </tr>\n",
       "    <tr>\n",
       "      <th id=\"T_53367_level0_row10\" class=\"row_heading level0 row10\" >10</th>\n",
       "      <td id=\"T_53367_row10_col0\" class=\"data row10 col0\" >Numeric imputation</td>\n",
       "      <td id=\"T_53367_row10_col1\" class=\"data row10 col1\" >mean</td>\n",
       "    </tr>\n",
       "    <tr>\n",
       "      <th id=\"T_53367_level0_row11\" class=\"row_heading level0 row11\" >11</th>\n",
       "      <td id=\"T_53367_row11_col0\" class=\"data row11 col0\" >Categorical imputation</td>\n",
       "      <td id=\"T_53367_row11_col1\" class=\"data row11 col1\" >mode</td>\n",
       "    </tr>\n",
       "    <tr>\n",
       "      <th id=\"T_53367_level0_row12\" class=\"row_heading level0 row12\" >12</th>\n",
       "      <td id=\"T_53367_row12_col0\" class=\"data row12 col0\" >Normalize</td>\n",
       "      <td id=\"T_53367_row12_col1\" class=\"data row12 col1\" >True</td>\n",
       "    </tr>\n",
       "    <tr>\n",
       "      <th id=\"T_53367_level0_row13\" class=\"row_heading level0 row13\" >13</th>\n",
       "      <td id=\"T_53367_row13_col0\" class=\"data row13 col0\" >Normalize method</td>\n",
       "      <td id=\"T_53367_row13_col1\" class=\"data row13 col1\" >zscore</td>\n",
       "    </tr>\n",
       "    <tr>\n",
       "      <th id=\"T_53367_level0_row14\" class=\"row_heading level0 row14\" >14</th>\n",
       "      <td id=\"T_53367_row14_col0\" class=\"data row14 col0\" >Fold Generator</td>\n",
       "      <td id=\"T_53367_row14_col1\" class=\"data row14 col1\" >StratifiedKFold</td>\n",
       "    </tr>\n",
       "    <tr>\n",
       "      <th id=\"T_53367_level0_row15\" class=\"row_heading level0 row15\" >15</th>\n",
       "      <td id=\"T_53367_row15_col0\" class=\"data row15 col0\" >Fold Number</td>\n",
       "      <td id=\"T_53367_row15_col1\" class=\"data row15 col1\" >10</td>\n",
       "    </tr>\n",
       "    <tr>\n",
       "      <th id=\"T_53367_level0_row16\" class=\"row_heading level0 row16\" >16</th>\n",
       "      <td id=\"T_53367_row16_col0\" class=\"data row16 col0\" >CPU Jobs</td>\n",
       "      <td id=\"T_53367_row16_col1\" class=\"data row16 col1\" >-1</td>\n",
       "    </tr>\n",
       "    <tr>\n",
       "      <th id=\"T_53367_level0_row17\" class=\"row_heading level0 row17\" >17</th>\n",
       "      <td id=\"T_53367_row17_col0\" class=\"data row17 col0\" >Use GPU</td>\n",
       "      <td id=\"T_53367_row17_col1\" class=\"data row17 col1\" >False</td>\n",
       "    </tr>\n",
       "    <tr>\n",
       "      <th id=\"T_53367_level0_row18\" class=\"row_heading level0 row18\" >18</th>\n",
       "      <td id=\"T_53367_row18_col0\" class=\"data row18 col0\" >Log Experiment</td>\n",
       "      <td id=\"T_53367_row18_col1\" class=\"data row18 col1\" >False</td>\n",
       "    </tr>\n",
       "    <tr>\n",
       "      <th id=\"T_53367_level0_row19\" class=\"row_heading level0 row19\" >19</th>\n",
       "      <td id=\"T_53367_row19_col0\" class=\"data row19 col0\" >Experiment Name</td>\n",
       "      <td id=\"T_53367_row19_col1\" class=\"data row19 col1\" >clf-default-name</td>\n",
       "    </tr>\n",
       "    <tr>\n",
       "      <th id=\"T_53367_level0_row20\" class=\"row_heading level0 row20\" >20</th>\n",
       "      <td id=\"T_53367_row20_col0\" class=\"data row20 col0\" >USI</td>\n",
       "      <td id=\"T_53367_row20_col1\" class=\"data row20 col1\" >d3f4</td>\n",
       "    </tr>\n",
       "  </tbody>\n",
       "</table>\n"
      ],
      "text/plain": [
       "<pandas.io.formats.style.Styler at 0x17e4c3b80>"
      ]
     },
     "metadata": {},
     "output_type": "display_data"
    },
    {
     "data": {
      "text/html": [],
      "text/plain": [
       "<IPython.core.display.HTML object>"
      ]
     },
     "metadata": {},
     "output_type": "display_data"
    },
    {
     "data": {
      "text/html": [
       "<style type=\"text/css\">\n",
       "#T_68815 th {\n",
       "  text-align: left;\n",
       "}\n",
       "#T_68815_row0_col0, #T_68815_row0_col1, #T_68815_row0_col2, #T_68815_row0_col4, #T_68815_row0_col6, #T_68815_row0_col7, #T_68815_row1_col0, #T_68815_row1_col3, #T_68815_row1_col5 {\n",
       "  text-align: left;\n",
       "}\n",
       "#T_68815_row0_col3, #T_68815_row0_col5, #T_68815_row1_col1, #T_68815_row1_col2, #T_68815_row1_col4, #T_68815_row1_col6, #T_68815_row1_col7 {\n",
       "  text-align: left;\n",
       "  background-color: yellow;\n",
       "}\n",
       "#T_68815_row0_col8 {\n",
       "  text-align: left;\n",
       "  background-color: yellow;\n",
       "  background-color: lightgrey;\n",
       "}\n",
       "#T_68815_row1_col8 {\n",
       "  text-align: left;\n",
       "  background-color: lightgrey;\n",
       "}\n",
       "</style>\n",
       "<table id=\"T_68815\">\n",
       "  <thead>\n",
       "    <tr>\n",
       "      <th class=\"blank level0\" >&nbsp;</th>\n",
       "      <th id=\"T_68815_level0_col0\" class=\"col_heading level0 col0\" >Model</th>\n",
       "      <th id=\"T_68815_level0_col1\" class=\"col_heading level0 col1\" >Accuracy</th>\n",
       "      <th id=\"T_68815_level0_col2\" class=\"col_heading level0 col2\" >AUC</th>\n",
       "      <th id=\"T_68815_level0_col3\" class=\"col_heading level0 col3\" >Recall</th>\n",
       "      <th id=\"T_68815_level0_col4\" class=\"col_heading level0 col4\" >Prec.</th>\n",
       "      <th id=\"T_68815_level0_col5\" class=\"col_heading level0 col5\" >F1</th>\n",
       "      <th id=\"T_68815_level0_col6\" class=\"col_heading level0 col6\" >Kappa</th>\n",
       "      <th id=\"T_68815_level0_col7\" class=\"col_heading level0 col7\" >MCC</th>\n",
       "      <th id=\"T_68815_level0_col8\" class=\"col_heading level0 col8\" >TT (Sec)</th>\n",
       "    </tr>\n",
       "  </thead>\n",
       "  <tbody>\n",
       "    <tr>\n",
       "      <th id=\"T_68815_level0_row0\" class=\"row_heading level0 row0\" >dt</th>\n",
       "      <td id=\"T_68815_row0_col0\" class=\"data row0 col0\" >Decision Tree Classifier</td>\n",
       "      <td id=\"T_68815_row0_col1\" class=\"data row0 col1\" >0.5357</td>\n",
       "      <td id=\"T_68815_row0_col2\" class=\"data row0 col2\" >0.5155</td>\n",
       "      <td id=\"T_68815_row0_col3\" class=\"data row0 col3\" >0.5838</td>\n",
       "      <td id=\"T_68815_row0_col4\" class=\"data row0 col4\" >0.5120</td>\n",
       "      <td id=\"T_68815_row0_col5\" class=\"data row0 col5\" >0.5455</td>\n",
       "      <td id=\"T_68815_row0_col6\" class=\"data row0 col6\" >0.0752</td>\n",
       "      <td id=\"T_68815_row0_col7\" class=\"data row0 col7\" >0.0759</td>\n",
       "      <td id=\"T_68815_row0_col8\" class=\"data row0 col8\" >0.0190</td>\n",
       "    </tr>\n",
       "    <tr>\n",
       "      <th id=\"T_68815_level0_row1\" class=\"row_heading level0 row1\" >lr</th>\n",
       "      <td id=\"T_68815_row1_col0\" class=\"data row1 col0\" >Logistic Regression</td>\n",
       "      <td id=\"T_68815_row1_col1\" class=\"data row1 col1\" >0.5768</td>\n",
       "      <td id=\"T_68815_row1_col2\" class=\"data row1 col2\" >0.5984</td>\n",
       "      <td id=\"T_68815_row1_col3\" class=\"data row1 col3\" >0.4826</td>\n",
       "      <td id=\"T_68815_row1_col4\" class=\"data row1 col4\" >0.5666</td>\n",
       "      <td id=\"T_68815_row1_col5\" class=\"data row1 col5\" >0.5212</td>\n",
       "      <td id=\"T_68815_row1_col6\" class=\"data row1 col6\" >0.1464</td>\n",
       "      <td id=\"T_68815_row1_col7\" class=\"data row1 col7\" >0.1480</td>\n",
       "      <td id=\"T_68815_row1_col8\" class=\"data row1 col8\" >0.2190</td>\n",
       "    </tr>\n",
       "  </tbody>\n",
       "</table>\n"
      ],
      "text/plain": [
       "<pandas.io.formats.style.Styler at 0x17e34c6d0>"
      ]
     },
     "metadata": {},
     "output_type": "display_data"
    },
    {
     "data": {
      "text/html": [],
      "text/plain": [
       "<IPython.core.display.HTML object>"
      ]
     },
     "metadata": {},
     "output_type": "display_data"
    },
    {
     "data": {
      "text/html": [],
      "text/plain": [
       "<IPython.core.display.HTML object>"
      ]
     },
     "metadata": {},
     "output_type": "display_data"
    },
    {
     "data": {
      "text/plain": [
       "'Validation Curve.png'"
      ]
     },
     "execution_count": 5,
     "metadata": {},
     "output_type": "execute_result"
    }
   ],
   "source": [
    "exp = pc.setup(\n",
    "    data=xtrain,\n",
    "    target = 'shot_made_flag',\n",
    "    test_data = xtest,\n",
    "    normalize=True,\n",
    "    log_experiment = False\n",
    ")\n",
    "list_models = exp.compare_models(['lr','dt'], n_select=2, sort='f1')\n",
    "list_models\n",
    "exp.plot_model(list_models[0], plot='vc', save = True)"
   ]
  },
  {
   "cell_type": "code",
   "execution_count": 6,
   "metadata": {},
   "outputs": [],
   "source": [
    "# Funcao de teste de hiperparametros por validacao cruzada\n",
    "from sklearn.model_selection import validation_curve\n",
    "\n",
    "def plot_parameter_validation_curve(X, Y, param_name, grid_search,\n",
    "                                    model, model_name, scoring,\n",
    "                                    logx):\n",
    "    print('Parameter:', param_name)\n",
    "    print('GridSearch:', grid_search[param_name])\n",
    "    print('Scoring:', scoring)\n",
    "    plt.figure(figsize=(6,4))\n",
    "    train_scores, test_scores = validation_curve(model,\n",
    "                                                 X = X,\n",
    "                                                 y = Y,\n",
    "                                                 param_name=param_name,\n",
    "                                                 param_range= grid_search[param_name],\n",
    "                                                 scoring=scoring,\n",
    "                                                 cv=10,\n",
    "                                                 n_jobs=-1)\n",
    "    train_scores_mean = np.mean(train_scores, axis=1)\n",
    "    train_scores_std = np.std(train_scores, axis=1)\n",
    "    test_scores_mean = np.mean(test_scores, axis=1)\n",
    "    test_scores_std = np.std(test_scores, axis=1)\n",
    "    plt.title(\"Curva Validação Modelo \" + model_name)\n",
    "    plt.xlabel(param_name)\n",
    "    plt.ylabel(\"Score (\"+scoring+\")\")\n",
    "    if logx:\n",
    "        plt.semilogx(grid_search[param_name], train_scores_mean,'-o', label=\"Treino\",\n",
    "                     color=\"darkorange\", lw=2)\n",
    "        plt.semilogx(grid_search[param_name], test_scores_mean,'-o', label=\"Validação-Cruzada\",\n",
    "                     color=\"navy\", lw=2)\n",
    "    else:\n",
    "        plt.plot(grid_search[param_name], train_scores_mean,'-o', label=\"Treino\",\n",
    "                     color=\"darkorange\", lw=2)\n",
    "        plt.plot(grid_search[param_name], test_scores_mean,'-o', label=\"Validação-Cruzada\",\n",
    "                 color=\"navy\", lw=2)\n",
    "    plt.fill_between(grid_search[param_name], train_scores_mean - train_scores_std,\n",
    "                     train_scores_mean + train_scores_std, alpha=0.2,\n",
    "                     color=\"darkorange\", lw=2)\n",
    "    plt.fill_between(grid_search[param_name], test_scores_mean - test_scores_std,\n",
    "                     test_scores_mean + test_scores_std, alpha=0.2,\n",
    "                     color=\"navy\", lw=2)\n",
    "    plt.legend(loc='best')\n",
    "    plt.grid(True)\n",
    "    plt.show()"
   ]
  },
  {
   "cell_type": "code",
   "execution_count": 12,
   "metadata": {},
   "outputs": [
    {
     "ename": "AttributeError",
     "evalue": "'function' object has no attribute 'get_params'",
     "output_type": "error",
     "traceback": [
      "\u001b[0;31m---------------------------------------------------------------------------\u001b[0m",
      "\u001b[0;31mAttributeError\u001b[0m                            Traceback (most recent call last)",
      "Cell \u001b[0;32mIn[12], line 1\u001b[0m\n\u001b[0;32m----> 1\u001b[0m \u001b[43mvalidation_curve\u001b[49m\u001b[38;5;241;43m.\u001b[39;49m\u001b[43mget_params\u001b[49m()\n\u001b[1;32m      2\u001b[0m plot_parameter_validation_curve(xtrain, ytrain, \u001b[38;5;124m'\u001b[39m\u001b[38;5;124mC\u001b[39m\u001b[38;5;124m'\u001b[39m, {\u001b[38;5;124m'\u001b[39m\u001b[38;5;124mC\u001b[39m\u001b[38;5;124m'\u001b[39m: [\u001b[38;5;241m0.001\u001b[39m, \u001b[38;5;241m0.01\u001b[39m, \u001b[38;5;241m0.1\u001b[39m, \u001b[38;5;241m1\u001b[39m, \u001b[38;5;241m10\u001b[39m]}, list_models[\u001b[38;5;241m0\u001b[39m], \u001b[38;5;124m'\u001b[39m\u001b[38;5;124mRegressão Logística\u001b[39m\u001b[38;5;124m'\u001b[39m, \u001b[38;5;124m'\u001b[39m\u001b[38;5;124mf1\u001b[39m\u001b[38;5;124m'\u001b[39m, logx\u001b[38;5;241m=\u001b[39m\u001b[38;5;28;01mFalse\u001b[39;00m)\n",
      "\u001b[0;31mAttributeError\u001b[0m: 'function' object has no attribute 'get_params'"
     ]
    }
   ],
   "source": [
    "plot_parameter_validation_curve(xtrain, ytrain, 'C', {'C': [0.001, 0.01, 0.1, 1, 10]}, list_models[0], 'Regressão Logística', 'f1', logx=False)"
   ]
  },
  {
   "cell_type": "code",
   "execution_count": null,
   "metadata": {},
   "outputs": [],
   "source": []
  }
 ],
 "metadata": {
  "kernelspec": {
   "display_name": "Python 3 (ipykernel)",
   "language": "python",
   "name": "python3"
  },
  "language_info": {
   "codemirror_mode": {
    "name": "ipython",
    "version": 3
   },
   "file_extension": ".py",
   "mimetype": "text/x-python",
   "name": "python",
   "nbconvert_exporter": "python",
   "pygments_lexer": "ipython3",
   "version": "3.8.19"
  }
 },
 "nbformat": 4,
 "nbformat_minor": 4
}
